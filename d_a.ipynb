{
 "cells": [
  {
   "cell_type": "code",
   "execution_count": 10,
   "metadata": {},
   "outputs": [],
   "source": [
    "import requests\n",
    "from bs4 import BeautifulSoup\n",
    "import re\n",
    "import time\n",
    "from collections import defaultdict\n",
    "\n",
    "game_tags_count=defaultdict(int)"
   ]
  },
  {
   "cell_type": "code",
   "execution_count": null,
   "metadata": {},
   "outputs": [],
   "source": [
    "from selenium import webdriver\n",
    "from selenium.webdriver.chrome.service import Service\n",
    "from webdriver_manager.chrome import ChromeDriverManager\n",
    "from selenium.webdriver.common.by import By\n",
    "\n",
    "# ChromeDriver 경로를 Service 객체로 전달\n",
    "service = Service(ChromeDriverManager().install())\n",
    "driver = webdriver.Chrome(service=service)\n",
    "\n",
    "# Steam \"Most Played\" 페이지 열기\n",
    "url = \"https://store.steampowered.com/charts/mostplayed/\"\n",
    "driver.get(url)\n",
    "\n",
    "# 페이지가 완전히 로드될 때까지 잠시 대기\n",
    "time.sleep(5)  # 페이지가 로드될 때까지 5초 대기\n",
    "\n",
    "# 페이지 소스 가져오기\n",
    "page_source = driver.page_source\n",
    "\n",
    "# BeautifulSoup로 HTML 파싱\n",
    "soup = BeautifulSoup(page_source, 'html.parser')\n",
    "\n",
    "# 게임 링크 추출 (게임 링크는 <a> 태그 안에 있음)\n",
    "game_links = soup.find_all('a', href=True)\n",
    "\n",
    "# '/app/'이 포함된 링크만 추출 (게임 링크)\n",
    "game_urls = [link['href'] for link in game_links if '/app/' in link['href']]\n",
    "\n",
    "# 브라우저 종료\n",
    "driver.quit()"
   ]
  },
  {
   "cell_type": "code",
   "execution_count": null,
   "metadata": {},
   "outputs": [],
   "source": [
    "for url in game_urls:\n",
    "    \n",
    "    # HTML 요청\n",
    "    response = requests.get(url)\n",
    "    \n",
    "    if response.status_code == 200:\n",
    "        # HTML 파싱\n",
    "        soup = BeautifulSoup(response.text, 'html.parser')\n",
    "        \n",
    "        # 모든 링크(a 태그) 추출\n",
    "        links = soup.find_all('a', {\"class\": \"app_tag\"})  # a 태그 목록\n",
    "        for tag in links:\n",
    "            game_tags_count[tag.string.strip()]+=1\n",
    "        \n",
    "    else:\n",
    "        print(f\"오류\")\n",
    "    \n",
    "    time.sleep(2)\n"
   ]
  },
  {
   "cell_type": "code",
   "execution_count": null,
   "metadata": {},
   "outputs": [
    {
     "name": "stdout",
     "output_type": "stream",
     "text": [
      "Multiplayer : 82\n",
      "Action : 73\n",
      "Singleplayer : 65\n",
      "Co-op : 51\n",
      "Open World : 48\n",
      "Adventure : 47\n",
      "Online Co-Op : 42\n",
      "First-Person : 38\n",
      "PvP : 38\n",
      "Simulation : 38\n"
     ]
    }
   ],
   "source": [
    "sorted_dict = sorted(game_tags_count.items(), key=lambda item: item[1], reverse=True)\n",
    "\n",
    "for key, value in sorted_dict:\n",
    "        print(f\"{key} : {value}\")"
   ]
  }
 ],
 "metadata": {
  "kernelspec": {
   "display_name": "base",
   "language": "python",
   "name": "python3"
  },
  "language_info": {
   "codemirror_mode": {
    "name": "ipython",
    "version": 3
   },
   "file_extension": ".py",
   "mimetype": "text/x-python",
   "name": "python",
   "nbconvert_exporter": "python",
   "pygments_lexer": "ipython3",
   "version": "3.9.13"
  }
 },
 "nbformat": 4,
 "nbformat_minor": 2
}
